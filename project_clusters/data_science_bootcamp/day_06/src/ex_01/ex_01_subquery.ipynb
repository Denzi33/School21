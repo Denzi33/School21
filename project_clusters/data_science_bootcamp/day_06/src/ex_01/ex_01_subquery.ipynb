{
 "cells": [
  {
   "cell_type": "markdown",
   "metadata": {},
   "source": [
    "# Exercise *01*: Subquery"
   ]
  },
  {
   "cell_type": "markdown",
   "metadata": {},
   "source": [
    "## Create a connection to the database using the library *sqlite3*:"
   ]
  },
  {
   "cell_type": "code",
   "execution_count": 1,
   "metadata": {},
   "outputs": [],
   "source": [
    "import sqlite3\n",
    "\n",
    "from sqlite3 import Connection"
   ]
  },
  {
   "cell_type": "code",
   "execution_count": 2,
   "metadata": {},
   "outputs": [],
   "source": [
    "db_path: str = \"../../data/checking_logs.sqlite\""
   ]
  },
  {
   "cell_type": "code",
   "execution_count": 3,
   "metadata": {},
   "outputs": [],
   "source": [
    "conn: Connection = sqlite3.connect(db_path)"
   ]
  },
  {
   "cell_type": "markdown",
   "metadata": {},
   "source": [
    "## Get the schema of the table *checker*:"
   ]
  },
  {
   "cell_type": "code",
   "execution_count": 4,
   "metadata": {},
   "outputs": [],
   "source": [
    "import pandas as pd\n",
    "\n",
    "from pandas import DataFrame"
   ]
  },
  {
   "cell_type": "code",
   "execution_count": 5,
   "metadata": {},
   "outputs": [],
   "source": [
    "sql_query: str = \"PRAGMA table_info(checker);\""
   ]
  },
  {
   "cell_type": "code",
   "execution_count": 6,
   "metadata": {},
   "outputs": [],
   "source": [
    "schema: DataFrame = pd.io.sql.read_sql(\n",
    "    sql_query,\n",
    "    conn\n",
    ")"
   ]
  },
  {
   "cell_type": "code",
   "execution_count": 7,
   "metadata": {},
   "outputs": [],
   "source": [
    "# schema"
   ]
  },
  {
   "cell_type": "markdown",
   "metadata": {},
   "source": [
    "## Get only the first *10* rows of the table *checker* to check what the table looks like:"
   ]
  },
  {
   "cell_type": "code",
   "execution_count": 8,
   "metadata": {},
   "outputs": [],
   "source": [
    "sql_query: str = \"\"\"\n",
    "                 SELECT\n",
    "                     *\n",
    "                 FROM\n",
    "                     checker\n",
    "                 LIMIT\n",
    "                     10;\n",
    "                 \"\"\""
   ]
  },
  {
   "cell_type": "code",
   "execution_count": 9,
   "metadata": {},
   "outputs": [],
   "source": [
    "rows: DataFrame = pd.io.sql.read_sql(\n",
    "    sql_query,\n",
    "    conn\n",
    ")"
   ]
  },
  {
   "cell_type": "code",
   "execution_count": 10,
   "metadata": {},
   "outputs": [],
   "source": [
    "# rows"
   ]
  },
  {
   "cell_type": "markdown",
   "metadata": {},
   "source": [
    "## Count how many rows satisfy the following conditions using only one query with any number of subqueries:"
   ]
  },
  {
   "cell_type": "markdown",
   "metadata": {},
   "source": [
    "* Count the rows from the *pageviews* table but only with users from the *checker* table with:\n",
    "  * `status = ’ready’`, we do not want to analyze the logs that are in status checking:\n",
    "  * `numTrials = 1`, we want to analyze only the first commits, because only they can tell us when a student started working on a lab:\n",
    "  * labnames should be from the list: `’laba04’, ’laba04s’, ’laba05’, ’laba06’, ’laba06s’, ’project1’`. Only they were active during the experiment.\n",
    "* Store in the dataframe *checkers* with the column `cnt`:"
   ]
  },
  {
   "cell_type": "code",
   "execution_count": 11,
   "metadata": {},
   "outputs": [],
   "source": [
    "sql_subquery: str = \"\"\"\n",
    "                    SELECT\n",
    "                        checker.uid AS uid\n",
    "                    FROM\n",
    "                        checker\n",
    "                    WHERE\n",
    "                        status = 'ready'\n",
    "                        AND numTrials = 1\n",
    "                        AND labname IN ('laba04', 'laba04s', 'laba05', 'laba06', 'laba06s', 'project1')\n",
    "                    \"\"\""
   ]
  },
  {
   "cell_type": "code",
   "execution_count": 12,
   "metadata": {},
   "outputs": [],
   "source": [
    "sql_query: str = f\"\"\"\n",
    "                  SELECT\n",
    "                      COUNT(*) AS cnt\n",
    "                  FROM\n",
    "                      pageviews\n",
    "                  WHERE\n",
    "                      pageviews.uid IN ({sql_subquery});\n",
    "                  \"\"\""
   ]
  },
  {
   "cell_type": "code",
   "execution_count": 13,
   "metadata": {},
   "outputs": [],
   "source": [
    "checkers: DataFrame = pd.io.sql.read_sql(\n",
    "    sql_query,\n",
    "    conn\n",
    ")"
   ]
  },
  {
   "cell_type": "code",
   "execution_count": 14,
   "metadata": {},
   "outputs": [],
   "source": [
    "# checkers"
   ]
  },
  {
   "cell_type": "markdown",
   "metadata": {},
   "source": [
    "## Close the connection:"
   ]
  },
  {
   "cell_type": "code",
   "execution_count": 15,
   "metadata": {},
   "outputs": [],
   "source": [
    "conn.close()"
   ]
  }
 ],
 "metadata": {
  "kernelspec": {
   "display_name": ".venv",
   "language": "python",
   "name": "python3"
  },
  "language_info": {
   "codemirror_mode": {
    "name": "ipython",
    "version": 3
   },
   "file_extension": ".py",
   "mimetype": "text/x-python",
   "name": "python",
   "nbconvert_exporter": "python",
   "pygments_lexer": "ipython3",
   "version": "3.12.6"
  }
 },
 "nbformat": 4,
 "nbformat_minor": 2
}
