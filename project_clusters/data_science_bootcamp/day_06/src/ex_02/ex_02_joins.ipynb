{
 "cells": [
  {
   "cell_type": "markdown",
   "metadata": {},
   "source": [
    "# Exercise *02*: `Join`"
   ]
  },
  {
   "cell_type": "markdown",
   "metadata": {
    "vscode": {
     "languageId": "plaintext"
    }
   },
   "source": [
    "## Create a connection to the database using the library *sqlite3*:"
   ]
  },
  {
   "cell_type": "code",
   "execution_count": 1,
   "metadata": {},
   "outputs": [],
   "source": [
    "import sqlite3\n",
    "\n",
    "from sqlite3 import Connection"
   ]
  },
  {
   "cell_type": "code",
   "execution_count": 2,
   "metadata": {},
   "outputs": [],
   "source": [
    "db_path: str = \"../../data/checking_logs.sqlite\""
   ]
  },
  {
   "cell_type": "code",
   "execution_count": 3,
   "metadata": {},
   "outputs": [],
   "source": [
    "conn: Connection = sqlite3.connect(db_path)"
   ]
  },
  {
   "cell_type": "markdown",
   "metadata": {
    "vscode": {
     "languageId": "plaintext"
    }
   },
   "source": [
    "## Create a new table *datamart* in the database by joining the tables *pageviews* and *checker* using only one query:"
   ]
  },
  {
   "cell_type": "markdown",
   "metadata": {},
   "source": [
    "* The table should have the following columns: *uid*, *labname*, *first_commit_ts*, *first_view_ts*:\n",
    "* *first_commit_ts* is just a new name of the column *timestamp* from the *checker* table, it shows the first commit from a particular lab and from a particular user:\n",
    "* *first_view_ts* is the first visit of a user to the table *pageviews*, timestamp when a user visited the *newsfeed*:\n",
    "* `status = ’ready’` should still be a filter:\n",
    "* `numTrials = 1` should still be a filter:\n",
    "* labnames should still be from the list: `’laba04’, ’laba04s’, ’laba05’, ’laba06’, ’laba06s’, ’project1’`:\n",
    "* The table should contain only the users (`uids with user_*`) and not the admins:\n",
    "* *first_commit_ts* and *first_view_ts* should be parsed as *datetime64[ns]*."
   ]
  },
  {
   "cell_type": "code",
   "execution_count": 4,
   "metadata": {},
   "outputs": [],
   "source": [
    "import pandas as pd\n",
    "\n",
    "from sqlite3 import Cursor\n",
    "from pandas import Timestamp, DataFrame"
   ]
  },
  {
   "cell_type": "code",
   "execution_count": 5,
   "metadata": {},
   "outputs": [],
   "source": [
    "sql_subquery: str = \"\"\"\n",
    "                    SELECT\n",
    "                        checker.uid AS uid,\n",
    "                        checker.labname AS labname,\n",
    "                        MIN(checker.timestamp) AS first_commit_ts,\n",
    "                        MIN(pageviews.datetime) AS first_view_ts\n",
    "                    FROM\n",
    "                        checker\n",
    "                    FULL OUTER JOIN\n",
    "                        pageviews ON checker.uid = pageviews.uid\n",
    "                    WHERE\n",
    "                        checker.status = 'ready'\n",
    "                        AND checker.numTrials = 1\n",
    "                        AND checker.uid LIKE 'user_%'\n",
    "                        AND checker.labname IN ('laba04', 'laba04s', 'laba05', 'laba06', 'laba06s', 'project1')\n",
    "                    GROUP BY\n",
    "                        checker.uid,\n",
    "                        checker.labname\n",
    "                    \"\"\""
   ]
  },
  {
   "cell_type": "code",
   "execution_count": 6,
   "metadata": {},
   "outputs": [],
   "source": [
    "sql_query: str = f\"\"\"\n",
    "                  CREATE TABLE datamart AS\n",
    "                      {sql_subquery};\n",
    "                  \"\"\""
   ]
  },
  {
   "cell_type": "code",
   "execution_count": 7,
   "metadata": {},
   "outputs": [],
   "source": [
    "curs: Cursor = conn.cursor()"
   ]
  },
  {
   "cell_type": "code",
   "execution_count": 8,
   "metadata": {},
   "outputs": [],
   "source": [
    "curs.execute(sql_query)\n",
    "conn.commit()"
   ]
  },
  {
   "cell_type": "code",
   "execution_count": 9,
   "metadata": {},
   "outputs": [],
   "source": [
    "# sql_query: str = f\"DROP TABLE datamart;\""
   ]
  },
  {
   "cell_type": "code",
   "execution_count": 10,
   "metadata": {},
   "outputs": [],
   "source": [
    "# curs.execute(sql_query)\n",
    "# conn.commit()"
   ]
  },
  {
   "cell_type": "markdown",
   "metadata": {},
   "source": [
    "## Using *Pandas* methods, create two dataframes: *test* and *control*:"
   ]
  },
  {
   "cell_type": "markdown",
   "metadata": {},
   "source": [
    "* *test* should have the users that have the values in *first_view_ts*:\n",
    "* *control* should have the users that have missing values in *first_view_ts*:\n",
    "* Replace the missing values in the *control* with the average *first_view_ts* of the *test* users, we will use this value for the future analysis:\n",
    "* Save both tables into the database, you will use them in the next exercises."
   ]
  },
  {
   "cell_type": "code",
   "execution_count": 11,
   "metadata": {},
   "outputs": [],
   "source": [
    "sql_query: str = f\"\"\"\n",
    "                  SELECT \n",
    "                      *\n",
    "                  FROM \n",
    "                      datamart;\n",
    "                  \"\"\""
   ]
  },
  {
   "cell_type": "code",
   "execution_count": 12,
   "metadata": {},
   "outputs": [],
   "source": [
    "datamart: DataFrame = pd.io.sql.read_sql(\n",
    "    sql_query,\n",
    "    conn\n",
    ")"
   ]
  },
  {
   "cell_type": "code",
   "execution_count": 13,
   "metadata": {},
   "outputs": [],
   "source": [
    "datamart[\"first_view_ts\"] = pd.to_datetime(datamart[\"first_view_ts\"])\n",
    "datamart[\"first_commit_ts\"] = pd.to_datetime(datamart[\"first_commit_ts\"])"
   ]
  },
  {
   "cell_type": "code",
   "execution_count": 14,
   "metadata": {},
   "outputs": [],
   "source": [
    "test: DataFrame = datamart[datamart[\"first_view_ts\"].notna()]\n",
    "control: DataFrame = datamart[datamart[\"first_view_ts\"].isna()]"
   ]
  },
  {
   "cell_type": "code",
   "execution_count": 15,
   "metadata": {},
   "outputs": [],
   "source": [
    "avg_first_view_ts: Timestamp = test[\"first_view_ts\"].mean()"
   ]
  },
  {
   "cell_type": "code",
   "execution_count": 16,
   "metadata": {},
   "outputs": [],
   "source": [
    "control.loc[\n",
    "    :,\n",
    "    \"first_view_ts\",\n",
    "] = control[\"first_view_ts\"].fillna(avg_first_view_ts)"
   ]
  },
  {
   "cell_type": "code",
   "execution_count": 17,
   "metadata": {},
   "outputs": [
    {
     "data": {
      "text/plain": [
       "59"
      ]
     },
     "execution_count": 17,
     "metadata": {},
     "output_type": "execute_result"
    }
   ],
   "source": [
    "control.to_sql(\n",
    "    \"control\",\n",
    "    conn,\n",
    "    if_exists=\"replace\",\n",
    "    index=False\n",
    ")\n",
    "\n",
    "test.to_sql(\n",
    "    \"test\",\n",
    "    conn,\n",
    "    if_exists=\"replace\",\n",
    "    index=False\n",
    ")"
   ]
  },
  {
   "cell_type": "code",
   "execution_count": 18,
   "metadata": {},
   "outputs": [],
   "source": [
    "# test"
   ]
  },
  {
   "cell_type": "code",
   "execution_count": 19,
   "metadata": {},
   "outputs": [],
   "source": [
    "# control"
   ]
  },
  {
   "cell_type": "markdown",
   "metadata": {},
   "source": [
    "## Close the connection:"
   ]
  },
  {
   "cell_type": "code",
   "execution_count": 20,
   "metadata": {},
   "outputs": [],
   "source": [
    "conn.close()"
   ]
  }
 ],
 "metadata": {
  "kernelspec": {
   "display_name": ".venv",
   "language": "python",
   "name": "python3"
  },
  "language_info": {
   "codemirror_mode": {
    "name": "ipython",
    "version": 3
   },
   "file_extension": ".py",
   "mimetype": "text/x-python",
   "name": "python",
   "nbconvert_exporter": "python",
   "pygments_lexer": "ipython3",
   "version": "3.12.6"
  }
 },
 "nbformat": 4,
 "nbformat_minor": 2
}
